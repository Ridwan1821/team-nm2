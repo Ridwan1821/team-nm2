{
 "cells": [
  {
   "cell_type": "markdown",
   "id": "de47e10e",
   "metadata": {},
   "source": [
    "# Advanced Classification Predict Student Solution\n",
    "\n",
    "© Explore Data Science Academy​ TeamNM2\n",
    "\n",
    "<img src=\"https://cdn-images-1.medium.com/max/1600/1*_QGyIwpgq831xI54cIe_GQ.jpeg\" style=\"width: 500px;\"/>"
   ]
  },
  {
   "cell_type": "code",
   "execution_count": 2,
   "id": "9942376b",
   "metadata": {},
   "outputs": [
    {
     "name": "stderr",
     "output_type": "stream",
     "text": [
      "[nltk_data] Downloading package stopwords to\n",
      "[nltk_data]     C:\\Users\\Ridwa\\AppData\\Roaming\\nltk_data...\n",
      "[nltk_data]   Unzipping corpora\\stopwords.zip.\n"
     ]
    },
    {
     "data": {
      "text/plain": [
       "True"
      ]
     },
     "execution_count": 2,
     "metadata": {},
     "output_type": "execute_result"
    }
   ],
   "source": [
    "import nltk\n",
    "nltk.download('stopwords')"
   ]
  },
  {
   "cell_type": "markdown",
   "id": "7aa00912",
   "metadata": {},
   "source": [
    "## 3.2 What is Natural Language Processing?\n",
    "\n",
    "Natural language is the language that humans speak and understand. It could be Hindi, English, Spanish, etc.Natural language processing (NLP) is process whereby computers are programmed to process and analyse large amounts of natural language data, which can be in the form of text or audio. Example of applications that use NLP include Google Voice assistant, Siri and google translator amongs others.\n",
    "\n",
    "<a href=#cont>Back to Table of Contents</a>"
   ]
  },
  {
   "cell_type": "code",
   "execution_count": 1,
   "id": "c19d6714",
   "metadata": {},
   "outputs": [],
   "source": [
    "# Libraries for data loading and data visulisation\n",
    "import re\n",
    "import numpy as np\n",
    "import pandas as pd\n",
    "import matplotlib.pyplot as plt\n",
    "import seaborn as sns\n",
    "%matplotlib inline\n",
    "\n",
    "import warnings\n",
    "warnings.filterwarnings(\"ignore\")\n",
    "\n",
    "# Libraries for modelling\n",
    "#Models from Scikit-Learn\n",
    "from sklearn.linear_model import LogisticRegression\n",
    "from sklearn.neighbors import KNeighborsClassifier\n",
    "from sklearn.ensemble import RandomForestClassifier\n",
    "from sklearn.tree import DecisionTreeClassifier\n",
    "from sklearn.naive_bayes import MultinomialNB\n",
    "from sklearn.linear_model import LogisticRegression, RidgeClassifier\n",
    "from xgboost.sklearn import XGBClassifier\n",
    "\n",
    "from sklearn.utils import resample\n",
    "\n",
    "#Model Evaluations\n",
    "from sklearn.feature_extraction.text import CountVectorizer\n",
    "from sklearn.model_selection import train_test_split, cross_val_score\n",
    "from sklearn.model_selection import RandomizedSearchCV, GridSearchCV\n",
    "from sklearn.metrics import confusion_matrix, classification_report\n",
    "from sklearn.metrics import precision_score, recall_score, f1_score\n",
    "#from sklearn.metrics import plot_roc_curve\n",
    "# Natural language Toolkit packages.\n",
    "# Necessary libraries and modules that are \n",
    "# going to help us do the data processing \n",
    "# from the nltk library.\n",
    "import nltk\n",
    "from nltk.corpus import stopwords\n",
    "stop = stopwords.words('english')\n",
    "from nltk.stem import PorterStemmer\n",
    "from nltk.stem import WordNetLemmatizer\n",
    "#nltk.download('wordnet')\n",
    "import string\n",
    "from nltk.tokenize import word_tokenize, TreebankWordTokenizer\n",
    "from nltk.stem import WordNetLemmatizer\n",
    "from nltk.corpus import stopwords\n",
    "from sklearn.feature_extraction.text import CountVectorizer\n",
    "from nltk import SnowballStemmer, PorterStemmer, LancasterStemmer\n",
    "from sklearn.utils import resample\n",
    "# Save trained models\n",
    "import pickle\n",
    "# Customise our plotting settings\n",
    "sns.set_style('whitegrid')\n",
    "\n",
    "#Libraries for data preparation and model building\n",
    "from sklearn.model_selection import train_test_split\n",
    "from sklearn.svm import SVC, LinearSVC\n",
    "import itertools # confusion matrix"
   ]
  },
  {
   "cell_type": "code",
   "execution_count": 6,
   "id": "c8605df6",
   "metadata": {},
   "outputs": [],
   "source": [
    "#load the training and test data set\n",
    "train = pd.read_csv('train.csv')\n",
    "test = pd.read_csv('test_with_no_labels.csv')"
   ]
  },
  {
   "cell_type": "code",
   "execution_count": 7,
   "id": "19d54dfa",
   "metadata": {},
   "outputs": [
    {
     "data": {
      "text/html": [
       "<div>\n",
       "<style scoped>\n",
       "    .dataframe tbody tr th:only-of-type {\n",
       "        vertical-align: middle;\n",
       "    }\n",
       "\n",
       "    .dataframe tbody tr th {\n",
       "        vertical-align: top;\n",
       "    }\n",
       "\n",
       "    .dataframe thead th {\n",
       "        text-align: right;\n",
       "    }\n",
       "</style>\n",
       "<table border=\"1\" class=\"dataframe\">\n",
       "  <thead>\n",
       "    <tr style=\"text-align: right;\">\n",
       "      <th></th>\n",
       "      <th>sentiment</th>\n",
       "      <th>message</th>\n",
       "      <th>tweetid</th>\n",
       "    </tr>\n",
       "  </thead>\n",
       "  <tbody>\n",
       "    <tr>\n",
       "      <th>0</th>\n",
       "      <td>-1</td>\n",
       "      <td>RT @darreljorstad: Funny as hell! Canada deman...</td>\n",
       "      <td>897853122080407553</td>\n",
       "    </tr>\n",
       "    <tr>\n",
       "      <th>1</th>\n",
       "      <td>-1</td>\n",
       "      <td>All the biggest lies about climate change and ...</td>\n",
       "      <td>925046776553529344</td>\n",
       "    </tr>\n",
       "    <tr>\n",
       "      <th>2</th>\n",
       "      <td>-1</td>\n",
       "      <td>The Coming Revelation Of The $q$Global Warming...</td>\n",
       "      <td>696354236850786305</td>\n",
       "    </tr>\n",
       "    <tr>\n",
       "      <th>3</th>\n",
       "      <td>-1</td>\n",
       "      <td>RT @DineshDSouza: Let's see if the world ends ...</td>\n",
       "      <td>846806509732483072</td>\n",
       "    </tr>\n",
       "    <tr>\n",
       "      <th>4</th>\n",
       "      <td>-1</td>\n",
       "      <td>RT @SteveSGoddard: Obama has no control over t...</td>\n",
       "      <td>628085266293653504</td>\n",
       "    </tr>\n",
       "  </tbody>\n",
       "</table>\n",
       "</div>"
      ],
      "text/plain": [
       "   sentiment                                            message  \\\n",
       "0         -1  RT @darreljorstad: Funny as hell! Canada deman...   \n",
       "1         -1  All the biggest lies about climate change and ...   \n",
       "2         -1  The Coming Revelation Of The $q$Global Warming...   \n",
       "3         -1  RT @DineshDSouza: Let's see if the world ends ...   \n",
       "4         -1  RT @SteveSGoddard: Obama has no control over t...   \n",
       "\n",
       "              tweetid  \n",
       "0  897853122080407553  \n",
       "1  925046776553529344  \n",
       "2  696354236850786305  \n",
       "3  846806509732483072  \n",
       "4  628085266293653504  "
      ]
     },
     "execution_count": 7,
     "metadata": {},
     "output_type": "execute_result"
    }
   ],
   "source": [
    "train.head()"
   ]
  },
  {
   "cell_type": "code",
   "execution_count": 8,
   "id": "9c16d859",
   "metadata": {},
   "outputs": [
    {
     "data": {
      "text/html": [
       "<div>\n",
       "<style scoped>\n",
       "    .dataframe tbody tr th:only-of-type {\n",
       "        vertical-align: middle;\n",
       "    }\n",
       "\n",
       "    .dataframe tbody tr th {\n",
       "        vertical-align: top;\n",
       "    }\n",
       "\n",
       "    .dataframe thead th {\n",
       "        text-align: right;\n",
       "    }\n",
       "</style>\n",
       "<table border=\"1\" class=\"dataframe\">\n",
       "  <thead>\n",
       "    <tr style=\"text-align: right;\">\n",
       "      <th></th>\n",
       "      <th>sentiment</th>\n",
       "      <th>message</th>\n",
       "    </tr>\n",
       "  </thead>\n",
       "  <tbody>\n",
       "    <tr>\n",
       "      <th>0</th>\n",
       "      <td>-1</td>\n",
       "      <td>RT @darreljorstad: Funny as hell! Canada deman...</td>\n",
       "    </tr>\n",
       "    <tr>\n",
       "      <th>1</th>\n",
       "      <td>-1</td>\n",
       "      <td>All the biggest lies about climate change and ...</td>\n",
       "    </tr>\n",
       "    <tr>\n",
       "      <th>2</th>\n",
       "      <td>-1</td>\n",
       "      <td>The Coming Revelation Of The $q$Global Warming...</td>\n",
       "    </tr>\n",
       "    <tr>\n",
       "      <th>3</th>\n",
       "      <td>-1</td>\n",
       "      <td>RT @DineshDSouza: Let's see if the world ends ...</td>\n",
       "    </tr>\n",
       "    <tr>\n",
       "      <th>4</th>\n",
       "      <td>-1</td>\n",
       "      <td>RT @SteveSGoddard: Obama has no control over t...</td>\n",
       "    </tr>\n",
       "  </tbody>\n",
       "</table>\n",
       "</div>"
      ],
      "text/plain": [
       "   sentiment                                            message\n",
       "0         -1  RT @darreljorstad: Funny as hell! Canada deman...\n",
       "1         -1  All the biggest lies about climate change and ...\n",
       "2         -1  The Coming Revelation Of The $q$Global Warming...\n",
       "3         -1  RT @DineshDSouza: Let's see if the world ends ...\n",
       "4         -1  RT @SteveSGoddard: Obama has no control over t..."
      ]
     },
     "execution_count": 8,
     "metadata": {},
     "output_type": "execute_result"
    }
   ],
   "source": [
    "# Dropping the \"tweetid\" columns in both train and test datasets \n",
    "df_train = train.drop(['tweetid'], axis=1)\n",
    "df_test = test.drop(['tweetid'], axis=1)\n",
    "\n",
    "# Storing the \"tweetid\" of the test dataset in a separate dataframe\n",
    "# so that we can append it to our final submission dataset.\n",
    "test_id = pd.DataFrame(test['tweetid'])\n",
    "df_train.head()"
   ]
  },
  {
   "cell_type": "code",
   "execution_count": 9,
   "id": "14b0be70",
   "metadata": {},
   "outputs": [
    {
     "data": {
      "text/html": [
       "<div>\n",
       "<style scoped>\n",
       "    .dataframe tbody tr th:only-of-type {\n",
       "        vertical-align: middle;\n",
       "    }\n",
       "\n",
       "    .dataframe tbody tr th {\n",
       "        vertical-align: top;\n",
       "    }\n",
       "\n",
       "    .dataframe thead th {\n",
       "        text-align: right;\n",
       "    }\n",
       "</style>\n",
       "<table border=\"1\" class=\"dataframe\">\n",
       "  <thead>\n",
       "    <tr style=\"text-align: right;\">\n",
       "      <th></th>\n",
       "      <th>tweetid</th>\n",
       "    </tr>\n",
       "  </thead>\n",
       "  <tbody>\n",
       "    <tr>\n",
       "      <th>0</th>\n",
       "      <td>8.978530e+17</td>\n",
       "    </tr>\n",
       "    <tr>\n",
       "      <th>1</th>\n",
       "      <td>9.250470e+17</td>\n",
       "    </tr>\n",
       "    <tr>\n",
       "      <th>2</th>\n",
       "      <td>6.963540e+17</td>\n",
       "    </tr>\n",
       "    <tr>\n",
       "      <th>3</th>\n",
       "      <td>8.468070e+17</td>\n",
       "    </tr>\n",
       "    <tr>\n",
       "      <th>4</th>\n",
       "      <td>6.280850e+17</td>\n",
       "    </tr>\n",
       "  </tbody>\n",
       "</table>\n",
       "</div>"
      ],
      "text/plain": [
       "        tweetid\n",
       "0  8.978530e+17\n",
       "1  9.250470e+17\n",
       "2  6.963540e+17\n",
       "3  8.468070e+17\n",
       "4  6.280850e+17"
      ]
     },
     "execution_count": 9,
     "metadata": {},
     "output_type": "execute_result"
    }
   ],
   "source": [
    "# View the newly separated dataframe of the test dataframe \n",
    "test_id.head()"
   ]
  },
  {
   "cell_type": "code",
   "execution_count": 16,
   "id": "bea4002d",
   "metadata": {},
   "outputs": [],
   "source": [
    "#df_train['len'] = df_train['message'].str.len()\n",
    "#df_train.head(10)"
   ]
  },
  {
   "cell_type": "markdown",
   "id": "77426685",
   "metadata": {},
   "source": [
    "<a id=\"six\"></a>\n",
    "# 6. EXPLORATORY DATA ANALYSIS (EDA) <img src=\"https://i.ytimg.com/vi/pKsGE7wqQks/maxresdefault.jpg\"  style=\"width: 400px;\"/>\n",
    "<a href=#cont>Back to Table of Contents</a>"
   ]
  },
  {
   "cell_type": "code",
   "execution_count": 17,
   "id": "4ac049de",
   "metadata": {},
   "outputs": [],
   "source": [
    "# Look at stats\n",
    "# df.info, df.describe, df.isnull, etc"
   ]
  },
  {
   "cell_type": "markdown",
   "id": "81fcb740",
   "metadata": {},
   "source": [
    "## 6.1 Data Exploration"
   ]
  },
  {
   "cell_type": "code",
   "execution_count": 10,
   "id": "145de155",
   "metadata": {},
   "outputs": [
    {
     "data": {
      "text/plain": [
       "Index(['sentiment', 'message'], dtype='object')"
      ]
     },
     "execution_count": 10,
     "metadata": {},
     "output_type": "execute_result"
    }
   ],
   "source": [
    "df_train.columns # Check the columns"
   ]
  },
  {
   "cell_type": "code",
   "execution_count": 11,
   "id": "9cf7f872",
   "metadata": {},
   "outputs": [
    {
     "data": {
      "text/plain": [
       "(30759, 2)"
      ]
     },
     "execution_count": 11,
     "metadata": {},
     "output_type": "execute_result"
    }
   ],
   "source": [
    "df_train.shape  # Check for the numbers of rows and colums in the dataset"
   ]
  },
  {
   "cell_type": "code",
   "execution_count": 12,
   "id": "af781be3",
   "metadata": {},
   "outputs": [
    {
     "name": "stdout",
     "output_type": "stream",
     "text": [
      "<class 'pandas.core.frame.DataFrame'>\n",
      "RangeIndex: 30759 entries, 0 to 30758\n",
      "Data columns (total 2 columns):\n",
      " #   Column     Non-Null Count  Dtype \n",
      "---  ------     --------------  ----- \n",
      " 0   sentiment  30759 non-null  int64 \n",
      " 1   message    30759 non-null  object\n",
      "dtypes: int64(1), object(1)\n",
      "memory usage: 480.7+ KB\n"
     ]
    }
   ],
   "source": [
    "df_train.info() #Get more informatioin of the various data types contained in the dataset"
   ]
  },
  {
   "cell_type": "code",
   "execution_count": 13,
   "id": "f8455d50",
   "metadata": {},
   "outputs": [
    {
     "data": {
      "text/plain": [
       "sentiment    0\n",
       "message      0\n",
       "dtype: int64"
      ]
     },
     "execution_count": 13,
     "metadata": {},
     "output_type": "execute_result"
    }
   ],
   "source": [
    "#Check for missing values in the dataset\n",
    "df_train.isnull().sum()"
   ]
  },
  {
   "cell_type": "code",
   "execution_count": 14,
   "id": "0ee28dc7",
   "metadata": {},
   "outputs": [
    {
     "data": {
      "text/html": [
       "<div>\n",
       "<style scoped>\n",
       "    .dataframe tbody tr th:only-of-type {\n",
       "        vertical-align: middle;\n",
       "    }\n",
       "\n",
       "    .dataframe tbody tr th {\n",
       "        vertical-align: top;\n",
       "    }\n",
       "\n",
       "    .dataframe thead th {\n",
       "        text-align: right;\n",
       "    }\n",
       "</style>\n",
       "<table border=\"1\" class=\"dataframe\">\n",
       "  <thead>\n",
       "    <tr style=\"text-align: right;\">\n",
       "      <th></th>\n",
       "      <th>count</th>\n",
       "      <th>mean</th>\n",
       "      <th>std</th>\n",
       "      <th>min</th>\n",
       "      <th>25%</th>\n",
       "      <th>50%</th>\n",
       "      <th>75%</th>\n",
       "      <th>max</th>\n",
       "    </tr>\n",
       "  </thead>\n",
       "  <tbody>\n",
       "    <tr>\n",
       "      <th>sentiment</th>\n",
       "      <td>30759.0</td>\n",
       "      <td>0.853929</td>\n",
       "      <td>0.853551</td>\n",
       "      <td>-1.0</td>\n",
       "      <td>0.0</td>\n",
       "      <td>1.0</td>\n",
       "      <td>1.0</td>\n",
       "      <td>2.0</td>\n",
       "    </tr>\n",
       "  </tbody>\n",
       "</table>\n",
       "</div>"
      ],
      "text/plain": [
       "             count      mean       std  min  25%  50%  75%  max\n",
       "sentiment  30759.0  0.853929  0.853551 -1.0  0.0  1.0  1.0  2.0"
      ]
     },
     "execution_count": 14,
     "metadata": {},
     "output_type": "execute_result"
    }
   ],
   "source": [
    "df_train.describe().T"
   ]
  },
  {
   "cell_type": "code",
   "execution_count": 15,
   "id": "58acd7e5",
   "metadata": {},
   "outputs": [
    {
     "data": {
      "text/html": [
       "<div>\n",
       "<style scoped>\n",
       "    .dataframe tbody tr th:only-of-type {\n",
       "        vertical-align: middle;\n",
       "    }\n",
       "\n",
       "    .dataframe tbody tr th {\n",
       "        vertical-align: top;\n",
       "    }\n",
       "\n",
       "    .dataframe thead th {\n",
       "        text-align: right;\n",
       "    }\n",
       "</style>\n",
       "<table border=\"1\" class=\"dataframe\">\n",
       "  <thead>\n",
       "    <tr style=\"text-align: right;\">\n",
       "      <th></th>\n",
       "      <th>count</th>\n",
       "      <th>unique</th>\n",
       "      <th>top</th>\n",
       "      <th>freq</th>\n",
       "    </tr>\n",
       "  </thead>\n",
       "  <tbody>\n",
       "    <tr>\n",
       "      <th>message</th>\n",
       "      <td>30759</td>\n",
       "      <td>28813</td>\n",
       "      <td>RT @StephenSchlegel: she's thinking about how ...</td>\n",
       "      <td>361</td>\n",
       "    </tr>\n",
       "  </tbody>\n",
       "</table>\n",
       "</div>"
      ],
      "text/plain": [
       "         count unique                                                top freq\n",
       "message  30759  28813  RT @StephenSchlegel: she's thinking about how ...  361"
      ]
     },
     "execution_count": 15,
     "metadata": {},
     "output_type": "execute_result"
    }
   ],
   "source": [
    "df_train.describe(include='object').T"
   ]
  },
  {
   "cell_type": "code",
   "execution_count": 16,
   "id": "daaeff5b",
   "metadata": {},
   "outputs": [
    {
     "data": {
      "text/plain": [
       " 1    16073\n",
       " 2     6493\n",
       " 0     5400\n",
       "-1     2793\n",
       "Name: sentiment, dtype: int64"
      ]
     },
     "execution_count": 16,
     "metadata": {},
     "output_type": "execute_result"
    }
   ],
   "source": [
    "#checking for unique values \n",
    "df_train['sentiment'].value_counts()\n"
   ]
  },
  {
   "cell_type": "code",
   "execution_count": 17,
   "id": "82eab89b",
   "metadata": {},
   "outputs": [
    {
     "data": {
      "text/plain": [
       "array([-1,  0,  1,  2], dtype=int64)"
      ]
     },
     "execution_count": 17,
     "metadata": {},
     "output_type": "execute_result"
    }
   ],
   "source": [
    "#Check uniques target values\n",
    "df_train['sentiment'].unique()"
   ]
  },
  {
   "cell_type": "code",
   "execution_count": 18,
   "id": "acd37da4",
   "metadata": {},
   "outputs": [
    {
     "data": {
      "text/plain": [
       "0        rt @darreljorstad: funny as hell! canada deman...\n",
       "1        all the biggest lies about climate change and ...\n",
       "2        the coming revelation of the $q$global warming...\n",
       "3        rt @dineshdsouza: let's see if the world ends ...\n",
       "4        rt @stevesgoddard: obama has no control over t...\n",
       "                               ...                        \n",
       "30754    rt @time: the pentagon warned that climate cha...\n",
       "30755    study finds that global warming exacerbates re...\n",
       "30756    rt @mikeyslezak: the global green movement pre...\n",
       "30757    rt @profedwardsnz: nyc mayor says ny will go f...\n",
       "30758    rt sanders: climate change causes terrorism  h...\n",
       "Name: message, Length: 30759, dtype: object"
      ]
     },
     "execution_count": 18,
     "metadata": {},
     "output_type": "execute_result"
    }
   ],
   "source": [
    "#taking a closer look at the message column\n",
    "df_train['message'] = df_train.message.str.lower()\n",
    "df_train['message']"
   ]
  },
  {
   "cell_type": "markdown",
   "id": "a8de7f9b",
   "metadata": {},
   "source": [
    "<a href=#cont>Back to Table of Contents</a>"
   ]
  },
  {
   "cell_type": "markdown",
   "id": "239e8ef1",
   "metadata": {},
   "source": [
    "## 6.2 Data Visualization of Target Variables\n",
    "Plotting the distributions of the dataset in different ways."
   ]
  },
  {
   "cell_type": "code",
   "execution_count": 19,
   "id": "a408a3df",
   "metadata": {},
   "outputs": [
    {
     "data": {
      "text/plain": [
       "<AxesSubplot:ylabel='sentiment'>"
      ]
     },
     "execution_count": 19,
     "metadata": {},
     "output_type": "execute_result"
    },
    {
     "data": {
      "image/png": "[encoded data removed]",
      "text/plain": [
       "<Figure size 640x480 with 1 Axes>"
      ]
     },
     "metadata": {},
     "output_type": "display_data"
    }
   ],
   "source": [
    "# Before balancing our data\n",
    "#Pie chart\n",
    "df_train['sentiment'].value_counts().plot(kind='pie', autopct='%1.0f%%')"
   ]
  },
  {
   "cell_type": "markdown",
   "id": "cf02564a",
   "metadata": {},
   "source": [
    "Above its observed In the \"sentiment\" column it was observed that 54% of tweets was 1, 23%was 2, 15% was 0 and 8% was -1.\n",
    "\n",
    "Below its oserved that in the sentiment column has pro: 8530, anti: 1296, neutral: 2353, news: 3640 tweets"
   ]
  },
  {
   "cell_type": "markdown",
   "id": "8bfabfb7",
   "metadata": {},
   "source": [
    "DATA DICTIONARY:\n",
    "\n",
    "2 News: the tweet links to factual news about climate change\n",
    "\n",
    "1 Pro: the tweet supports the belief of man-made climate change\n",
    "\n",
    "0 Neutral: the tweet neither supports nor refutes the belief of man-made climate change\n",
    "\n",
    "-1 Anti: the tweet does not believe in man-made climate change"
   ]
  },
  {
   "cell_type": "code",
   "execution_count": 20,
   "id": "04f7d330",
   "metadata": {},
   "outputs": [
    {
     "name": "stdout",
     "output_type": "stream",
     "text": [
      "pro: 16073 \n",
      "anti: 2793 \n",
      "neutral: 5400 \n",
      "news: 6493\n"
     ]
    }
   ],
   "source": [
    "pro= df_train[df_train['sentiment'] == 1]\n",
    "anti = df_train[df_train['sentiment'] == -1]\n",
    "neutral = df_train[df_train['sentiment'] == 0]\n",
    "news = df_train[df_train['sentiment'] == 2]\n",
    "\n",
    "print('pro:' ,len(pro),'\\nanti:',len(anti), '\\nneutral:', len(neutral), '\\nnews:', len(news))"
   ]
  },
  {
   "cell_type": "code",
   "execution_count": 21,
   "id": "2df6e95b",
   "metadata": {},
   "outputs": [
    {
     "data": {
      "image/png": "[encoded data removed]",
      "text/plain": [
       "<Figure size 1000x700 with 1 Axes>"
      ]
     },
     "metadata": {},
     "output_type": "display_data"
    }
   ],
   "source": [
    "targets = df_train['sentiment']                           # Identify the targets\n",
    "\n",
    "#Creating a countplot for the features\n",
    "sns.set(rc={'figure.figsize':(10,7)})\n",
    "ax=sns.countplot(x=targets, data=df_train)\n",
    "\n",
    "total = len(targets)                                          # length of the column\n",
    "for p in ax.patches:\n",
    "    percentage = '{:.1f}%'.format(100 * p.get_height()/total) # percentage of each class of the sentiment\n",
    "    x = p.get_x() + p.get_width() / 2 - 0.1                   # width of the plot\n",
    "    y = p.get_y() + p.get_height()                            # heightt of the plot\n",
    "    ax.annotate(percentage, (x, y), size = 14)                # annotate the percantage \n",
    "    \n",
    "plt.show() # show the plot"
   ]
  },
  {
   "cell_type": "code",
   "execution_count": 22,
   "id": "63391caa",
   "metadata": {},
   "outputs": [],
   "source": [
    "#Next we will separate the tweets based on their sentiment.\n",
    "pro_df = df_train[df_train['sentiment'] == 1]    # Identify the pro sentiment data\n",
    "anti_df = df_train[df_train['sentiment'] == -1]    # Identify the anti sentiment data\n",
    "neutral_df = df_train[df_train['sentiment'] == 0]    # Identify the neutral sentiment data\n",
    "news_df = df_train[df_train['sentiment'] == 2]    # Identify the news sentiment data\n"
   ]
  },
  {
   "cell_type": "code",
   "execution_count": 23,
   "id": "54dfd99b",
   "metadata": {},
   "outputs": [],
   "source": [
    "# Declare additional stopwords\n",
    "add_stopwords = [\"rt\", \"http\",\"https\"]\n"
   ]
  },
  {
   "cell_type": "markdown",
   "id": "edf7b93c",
   "metadata": {},
   "source": [
    "The wordcloud above shows the 100 most frequent words used for the 1 Pro sentiment tweets. \"Climate\" and \"change\" are the most frequent words but that is to be expected because we have a dataset with tweets about climate change thus we remove those words in order to identify the important words for the specific sentiment. Further we can see that positive words like \"believe\", \"real\" and \"action\" are also frequently used."
   ]
  },
  {
   "cell_type": "markdown",
   "id": "69bebb02",
   "metadata": {},
   "source": [
    "The wordcloud above shows the 100 most frequent words used for the -1 Anti sentiment tweets. Here we can see high frequency negative words like, \"fake\", \"hoax\" and \"scam\" is more apparent in tweets with this sentiment."
   ]
  },
  {
   "cell_type": "markdown",
   "id": "824ed332",
   "metadata": {},
   "source": [
    "The wordcloud above shows the 100 most frequent words used for the 0 Neutral sentiment tweets. There is a relative balance between positive and negative words that are used for neutral sentiment."
   ]
  },
  {
   "cell_type": "markdown",
   "id": "20781639",
   "metadata": {},
   "source": [
    "The wordcloud above shows the 100 most frequent words used for the 2 News sentiment tweets. Here we can see words like, \"website\", \"article\" and \"report\" that points to tweets that reference news sources."
   ]
  },
  {
   "cell_type": "markdown",
   "id": "925a3c5d",
   "metadata": {},
   "source": [
    "<a id=\"seven\"></a>\n",
    "# 7. DATA / FEATURE ENGINEERING \n",
    "<img src=\"https://th.bing.com/th/id/R.eee8108c65fc1f3685af3b3016d782b6?rik=NNENRigixm2GFQ&pid=ImgRaw&r=0\" style=\"width: 400px\" style=\"height: 200px;\"/>\n",
    "\n",
    "<a href=#cont>Back to Table of Contents</a>"
   ]
  },
  {
   "cell_type": "markdown",
   "id": "f7fda958",
   "metadata": {},
   "source": [
    "## 7.1 Processing the Data"
   ]
  },
  {
   "cell_type": "code",
   "execution_count": 24,
   "id": "c437e624",
   "metadata": {},
   "outputs": [
    {
     "data": {
      "text/plain": [
       "0        rt @darreljorstad: funny as hell! canada deman...\n",
       "1        all the biggest lies about climate change and ...\n",
       "2        the coming revelation of the $q$global warming...\n",
       "3        rt @dineshdsouza: let's see if the world ends ...\n",
       "4        rt @stevesgoddard: obama has no control over t...\n",
       "                               ...                        \n",
       "30754    rt @time: the pentagon warned that climate cha...\n",
       "30755    study finds that global warming exacerbates re...\n",
       "30756    rt @mikeyslezak: the global green movement pre...\n",
       "30757    rt @profedwardsnz: nyc mayor says ny will go f...\n",
       "30758    rt sanders: climate change causes terrorism  h...\n",
       "Name: message, Length: 30759, dtype: object"
      ]
     },
     "execution_count": 24,
     "metadata": {},
     "output_type": "execute_result"
    }
   ],
   "source": [
    "#taking a colser look on the message column\n",
    "df_train['message'] = df_train.message.str.lower()\n",
    "df_train['message']"
   ]
  },
  {
   "cell_type": "code",
   "execution_count": 25,
   "id": "71650c48",
   "metadata": {},
   "outputs": [],
   "source": [
    "#creating a new dataframe for the features\n",
    "df = pd.DataFrame(df_train['message'])"
   ]
  },
  {
   "cell_type": "code",
   "execution_count": 26,
   "id": "9c9dd182",
   "metadata": {},
   "outputs": [
    {
     "data": {
      "text/plain": [
       "'!\"#$%&\\'()*+,-./:;<=>?@[\\\\]^_`{|}~'"
      ]
     },
     "execution_count": 26,
     "metadata": {},
     "output_type": "execute_result"
    }
   ],
   "source": [
    "# Remove Punctuation\n",
    "string.punctuation"
   ]
  },
  {
   "cell_type": "code",
   "execution_count": 27,
   "id": "31b53d61",
   "metadata": {},
   "outputs": [],
   "source": [
    "#Data preprocessing\n",
    "#function that handles the removal punctuations from the tweets\n",
    "def remove_punct(text):\n",
    "    \"\"\"\n",
    "    the function remove_punction, it takes in a text as input and loops through\n",
    "    the text, if a character is not in string.punctuation then it adds the character\n",
    "    as a string to the text variable\n",
    "    \n",
    "    \"\"\"\n",
    "    text  = \"\".join([char for char in text if char not in string.punctuation])\n",
    "    text = re.sub('[0-9]+', '', text)\n",
    "    return text"
   ]
  },
  {
   "cell_type": "code",
   "execution_count": 28,
   "id": "51ceb6a6",
   "metadata": {},
   "outputs": [],
   "source": [
    "#removes all websites and replaces them with the text 'web-url'\n",
    "pattern_url = r'http[s]?://(?:[A-Za-z]|[0-9]|[$-_@.&+]|[!*\\(\\),]|(?:%[0-9A-Fa-f][0-9A-Fa-f]))+'\n",
    "subs_url = r'url-web'\n",
    "df['message_punct'] = df['message'].replace(to_replace = pattern_url, value = subs_url, regex = True)"
   ]
  },
  {
   "cell_type": "code",
   "execution_count": 29,
   "id": "266f6489",
   "metadata": {},
   "outputs": [
    {
     "data": {
      "text/html": [
       "<div>\n",
       "<style scoped>\n",
       "    .dataframe tbody tr th:only-of-type {\n",
       "        vertical-align: middle;\n",
       "    }\n",
       "\n",
       "    .dataframe tbody tr th {\n",
       "        vertical-align: top;\n",
       "    }\n",
       "\n",
       "    .dataframe thead th {\n",
       "        text-align: right;\n",
       "    }\n",
       "</style>\n",
       "<table border=\"1\" class=\"dataframe\">\n",
       "  <thead>\n",
       "    <tr style=\"text-align: right;\">\n",
       "      <th></th>\n",
       "      <th>message</th>\n",
       "      <th>message_punct</th>\n",
       "    </tr>\n",
       "  </thead>\n",
       "  <tbody>\n",
       "    <tr>\n",
       "      <th>0</th>\n",
       "      <td>rt @darreljorstad: funny as hell! canada deman...</td>\n",
       "      <td>rt darreljorstad funny as hell canada demands ...</td>\n",
       "    </tr>\n",
       "    <tr>\n",
       "      <th>1</th>\n",
       "      <td>all the biggest lies about climate change and ...</td>\n",
       "      <td>all the biggest lies about climate change and ...</td>\n",
       "    </tr>\n",
       "    <tr>\n",
       "      <th>2</th>\n",
       "      <td>the coming revelation of the $q$global warming...</td>\n",
       "      <td>the coming revelation of the qglobal warmingq ...</td>\n",
       "    </tr>\n",
       "    <tr>\n",
       "      <th>3</th>\n",
       "      <td>rt @dineshdsouza: let's see if the world ends ...</td>\n",
       "      <td>rt dineshdsouza lets see if the world ends whe...</td>\n",
       "    </tr>\n",
       "    <tr>\n",
       "      <th>4</th>\n",
       "      <td>rt @stevesgoddard: obama has no control over t...</td>\n",
       "      <td>rt stevesgoddard obama has no control over the...</td>\n",
       "    </tr>\n",
       "  </tbody>\n",
       "</table>\n",
       "</div>"
      ],
      "text/plain": [
       "                                             message  \\\n",
       "0  rt @darreljorstad: funny as hell! canada deman...   \n",
       "1  all the biggest lies about climate change and ...   \n",
       "2  the coming revelation of the $q$global warming...   \n",
       "3  rt @dineshdsouza: let's see if the world ends ...   \n",
       "4  rt @stevesgoddard: obama has no control over t...   \n",
       "\n",
       "                                       message_punct  \n",
       "0  rt darreljorstad funny as hell canada demands ...  \n",
       "1  all the biggest lies about climate change and ...  \n",
       "2  the coming revelation of the qglobal warmingq ...  \n",
       "3  rt dineshdsouza lets see if the world ends whe...  \n",
       "4  rt stevesgoddard obama has no control over the...  "
      ]
     },
     "execution_count": 29,
     "metadata": {},
     "output_type": "execute_result"
    }
   ],
   "source": [
    "#apply the remove_punct func to the tweets column\n",
    "df['message_punct'] = df['message_punct'].apply(lambda x: remove_punct(x))\n",
    "df.head()"
   ]
  },
  {
   "cell_type": "code",
   "execution_count": 30,
   "id": "04ae9952",
   "metadata": {},
   "outputs": [],
   "source": [
    "# Data cleaning \n",
    "def clean_data(texts):\n",
    "    \n",
    "    \"\"\"\n",
    "    clean_data(text), the function further cleans the data using (re)\n",
    "    by removing extra white spaces and non text characters\n",
    "    \n",
    "    \"\"\"\n",
    "    words = list()\n",
    "    for text in texts.split():\n",
    "        # remove non text character from start and end of string\n",
    "        text = re.sub(r'(^\\W+|\\W+$)','',text)\n",
    "#       #remove multiple white spaces\n",
    "        text = re.sub(r'\\s+','',text)\n",
    "#       #remove non text characters and emojis between texts\n",
    "        text = re.sub(r'\\W+',r'',text)\n",
    "#       #remove white space at the end of strings\n",
    "        text = re.sub(r'\\s+$',r'',text)\n",
    "#       #Remove unwanted symbols\n",
    "        text = re.sub(r'[#,@,$_,?*//\"\"]',r'',text)\n",
    "        words.append(text.lower())\n",
    "            \n",
    "        text = [i for i in words if len(i) >= 2]\n",
    "        meaningful_words = [w for w in text if not w in stop]\n",
    "\n",
    "    return \" \".join(meaningful_words)"
   ]
  },
  {
   "cell_type": "code",
   "execution_count": 31,
   "id": "bb8a11bc",
   "metadata": {},
   "outputs": [],
   "source": [
    "#applying the clean_data function\n",
    "df['tweets'] = df['message_punct'].apply(clean_data)"
   ]
  },
  {
   "cell_type": "code",
   "execution_count": 32,
   "id": "d53857ff",
   "metadata": {},
   "outputs": [
    {
     "data": {
      "text/html": [
       "<div>\n",
       "<style scoped>\n",
       "    .dataframe tbody tr th:only-of-type {\n",
       "        vertical-align: middle;\n",
       "    }\n",
       "\n",
       "    .dataframe tbody tr th {\n",
       "        vertical-align: top;\n",
       "    }\n",
       "\n",
       "    .dataframe thead th {\n",
       "        text-align: right;\n",
       "    }\n",
       "</style>\n",
       "<table border=\"1\" class=\"dataframe\">\n",
       "  <thead>\n",
       "    <tr style=\"text-align: right;\">\n",
       "      <th></th>\n",
       "      <th>message</th>\n",
       "      <th>message_punct</th>\n",
       "      <th>tweets</th>\n",
       "    </tr>\n",
       "  </thead>\n",
       "  <tbody>\n",
       "    <tr>\n",
       "      <th>0</th>\n",
       "      <td>rt @darreljorstad: funny as hell! canada deman...</td>\n",
       "      <td>rt darreljorstad funny as hell canada demands ...</td>\n",
       "      <td>rt darreljorstad funny hell canada demands gen...</td>\n",
       "    </tr>\n",
       "    <tr>\n",
       "      <th>1</th>\n",
       "      <td>all the biggest lies about climate change and ...</td>\n",
       "      <td>all the biggest lies about climate change and ...</td>\n",
       "      <td>biggest lies climate change global warming deb...</td>\n",
       "    </tr>\n",
       "    <tr>\n",
       "      <th>2</th>\n",
       "      <td>the coming revelation of the $q$global warming...</td>\n",
       "      <td>the coming revelation of the qglobal warmingq ...</td>\n",
       "      <td>coming revelation qglobal warmingq fraud resem...</td>\n",
       "    </tr>\n",
       "    <tr>\n",
       "      <th>3</th>\n",
       "      <td>rt @dineshdsouza: let's see if the world ends ...</td>\n",
       "      <td>rt dineshdsouza lets see if the world ends whe...</td>\n",
       "      <td>rt dineshdsouza lets see world ends realdonald...</td>\n",
       "    </tr>\n",
       "    <tr>\n",
       "      <th>4</th>\n",
       "      <td>rt @stevesgoddard: obama has no control over t...</td>\n",
       "      <td>rt stevesgoddard obama has no control over the...</td>\n",
       "      <td>rt stevesgoddard obama control climate worst s...</td>\n",
       "    </tr>\n",
       "  </tbody>\n",
       "</table>\n",
       "</div>"
      ],
      "text/plain": [
       "                                             message  \\\n",
       "0  rt @darreljorstad: funny as hell! canada deman...   \n",
       "1  all the biggest lies about climate change and ...   \n",
       "2  the coming revelation of the $q$global warming...   \n",
       "3  rt @dineshdsouza: let's see if the world ends ...   \n",
       "4  rt @stevesgoddard: obama has no control over t...   \n",
       "\n",
       "                                       message_punct  \\\n",
       "0  rt darreljorstad funny as hell canada demands ...   \n",
       "1  all the biggest lies about climate change and ...   \n",
       "2  the coming revelation of the qglobal warmingq ...   \n",
       "3  rt dineshdsouza lets see if the world ends whe...   \n",
       "4  rt stevesgoddard obama has no control over the...   \n",
       "\n",
       "                                              tweets  \n",
       "0  rt darreljorstad funny hell canada demands gen...  \n",
       "1  biggest lies climate change global warming deb...  \n",
       "2  coming revelation qglobal warmingq fraud resem...  \n",
       "3  rt dineshdsouza lets see world ends realdonald...  \n",
       "4  rt stevesgoddard obama control climate worst s...  "
      ]
     },
     "execution_count": 32,
     "metadata": {},
     "output_type": "execute_result"
    }
   ],
   "source": [
    "df.head()"
   ]
  },
  {
   "cell_type": "markdown",
   "id": "51bfc474",
   "metadata": {},
   "source": [
    "## Calling the functions for the Stemming and Lemmatization process.\n",
    "Applying Stemming We wil be using Porter Stemmer to stem the data. Now, for more data processing, we use the following lines of code.\n",
    "\n",
    "Applying Lemmatization A very similar operation to stemming is called lemmatization. Lemmatizing is the process of grouping words of similar meaning together. So, your root stem, meaning the word you end up with, is not something you can just look up in a dictionary, but you can look up a lemma."
   ]
  },
  {
   "cell_type": "code",
   "execution_count": 33,
   "id": "bcec1e72",
   "metadata": {},
   "outputs": [],
   "source": [
    "#applying tokenization to the data set\n",
    "tokeniser = TreebankWordTokenizer()\n",
    "df['tokens'] = df['tweets'].apply(tokeniser.tokenize)"
   ]
  },
  {
   "cell_type": "code",
   "execution_count": 34,
   "id": "94b8d923",
   "metadata": {},
   "outputs": [],
   "source": [
    "#applying Lammetization\n",
    "lemmatizer = WordNetLemmatizer()"
   ]
  },
  {
   "cell_type": "code",
   "execution_count": 35,
   "id": "9e3ad8bd",
   "metadata": {},
   "outputs": [],
   "source": [
    "#function that handles the process of lemmatization\n",
    "def extract_lemma(words, lemmatizer):\n",
    "    return ' '.join([lemmatizer.lemmatize(word) for word in words])   "
   ]
  },
  {
   "cell_type": "code",
   "execution_count": 36,
   "id": "a272fc1d",
   "metadata": {},
   "outputs": [],
   "source": [
    "def lemmatize_text(text):\n",
    "    lemmatizer = WordNetLemmatizer()\n",
    "    return [lemmatizer.lemmatize(w) for w in text]  ##Notice the use of text."
   ]
  },
  {
   "cell_type": "code",
   "execution_count": null,
   "id": "5198f6e3",
   "metadata": {},
   "outputs": [],
   "source": [
    "#calling extract_lemma function on the tokens column\n",
    "df['lemma'] = df['tokens'].apply(extract_lemma, args=(lemmatizer, ))"
   ]
  },
  {
   "cell_type": "code",
   "execution_count": 38,
   "id": "ba7662a5",
   "metadata": {},
   "outputs": [
    {
     "data": {
      "text/html": [
       "<div>\n",
       "<style scoped>\n",
       "    .dataframe tbody tr th:only-of-type {\n",
       "        vertical-align: middle;\n",
       "    }\n",
       "\n",
       "    .dataframe tbody tr th {\n",
       "        vertical-align: top;\n",
       "    }\n",
       "\n",
       "    .dataframe thead th {\n",
       "        text-align: right;\n",
       "    }\n",
       "</style>\n",
       "<table border=\"1\" class=\"dataframe\">\n",
       "  <thead>\n",
       "    <tr style=\"text-align: right;\">\n",
       "      <th></th>\n",
       "      <th>message</th>\n",
       "    </tr>\n",
       "  </thead>\n",
       "  <tbody>\n",
       "    <tr>\n",
       "      <th>0</th>\n",
       "      <td>rt darreljorstad funny hell canada demands gen...</td>\n",
       "    </tr>\n",
       "    <tr>\n",
       "      <th>1</th>\n",
       "      <td>biggest lies climate change global warming deb...</td>\n",
       "    </tr>\n",
       "    <tr>\n",
       "      <th>2</th>\n",
       "      <td>coming revelation qglobal warmingq fraud resem...</td>\n",
       "    </tr>\n",
       "    <tr>\n",
       "      <th>3</th>\n",
       "      <td>rt dineshdsouza lets see world ends realdonald...</td>\n",
       "    </tr>\n",
       "    <tr>\n",
       "      <th>4</th>\n",
       "      <td>rt stevesgoddard obama control climate worst s...</td>\n",
       "    </tr>\n",
       "  </tbody>\n",
       "</table>\n",
       "</div>"
      ],
      "text/plain": [
       "                                             message\n",
       "0  rt darreljorstad funny hell canada demands gen...\n",
       "1  biggest lies climate change global warming deb...\n",
       "2  coming revelation qglobal warmingq fraud resem...\n",
       "3  rt dineshdsouza lets see world ends realdonald...\n",
       "4  rt stevesgoddard obama control climate worst s..."
      ]
     },
     "execution_count": 38,
     "metadata": {},
     "output_type": "execute_result"
    }
   ],
   "source": [
    "df = df.drop(['message','message_punct','tokens'], axis=1)\n",
    "df = df.rename(columns={'tweets':'message'})\n",
    "df.head()"
   ]
  },
  {
   "cell_type": "code",
   "execution_count": 39,
   "id": "e961446b",
   "metadata": {},
   "outputs": [],
   "source": [
    "#using countVectorizer\n",
    "vectorizer = CountVectorizer(lowercase=True, stop_words='english', analyzer='word', ngram_range=(1, 1))"
   ]
  },
  {
   "cell_type": "code",
   "execution_count": 40,
   "id": "8acf6794",
   "metadata": {},
   "outputs": [],
   "source": [
    "X_count = vectorizer.fit_transform(df['message'].values.astype(str))"
   ]
  },
  {
   "cell_type": "markdown",
   "id": "96a639d0",
   "metadata": {},
   "source": [
    "## 7.2 Creating Features"
   ]
  },
  {
   "cell_type": "code",
   "execution_count": 46,
   "id": "a97a0175",
   "metadata": {},
   "outputs": [
    {
     "data": {
      "text/plain": [
       "<30759x41426 sparse matrix of type '<class 'numpy.int64'>'\n",
       "\twith 342711 stored elements in Compressed Sparse Row format>"
      ]
     },
     "execution_count": 46,
     "metadata": {},
     "output_type": "execute_result"
    }
   ],
   "source": [
    "X_count"
   ]
  },
  {
   "cell_type": "code",
   "execution_count": 47,
   "id": "8a8a8d10",
   "metadata": {},
   "outputs": [],
   "source": [
    "# Extraxt features to help predict the label \n",
    "X = X_count"
   ]
  },
  {
   "cell_type": "code",
   "execution_count": 48,
   "id": "7e451064",
   "metadata": {},
   "outputs": [
    {
     "data": {
      "text/plain": [
       "(30759, 41426)"
      ]
     },
     "execution_count": 48,
     "metadata": {},
     "output_type": "execute_result"
    }
   ],
   "source": [
    "X_count.shape"
   ]
  },
  {
   "cell_type": "code",
   "execution_count": 49,
   "id": "fd3581ca",
   "metadata": {},
   "outputs": [],
   "source": [
    "#pickling the vectorizer of deployment\n",
    "pickle.dump(vectorizer, open(\"vect_pickle.pkl\", \"wb\"))"
   ]
  },
  {
   "cell_type": "code",
   "execution_count": 50,
   "id": "119d4c63",
   "metadata": {},
   "outputs": [],
   "source": [
    "# Determine our Label\n",
    "y = df_train['sentiment']"
   ]
  },
  {
   "cell_type": "code",
   "execution_count": 51,
   "id": "539a57d6",
   "metadata": {},
   "outputs": [
    {
     "data": {
      "text/plain": [
       "(30759,)"
      ]
     },
     "execution_count": 51,
     "metadata": {},
     "output_type": "execute_result"
    }
   ],
   "source": [
    "y.shape"
   ]
  },
  {
   "cell_type": "code",
   "execution_count": 52,
   "id": "aa7bfd4b",
   "metadata": {},
   "outputs": [
    {
     "data": {
      "text/plain": [
       "[-1, 0, 1, 2]"
      ]
     },
     "execution_count": 52,
     "metadata": {},
     "output_type": "execute_result"
    }
   ],
   "source": [
    "#selecting the unique labels\n",
    "type_labels = list(df_train['sentiment'].unique())\n",
    "type_labels"
   ]
  },
  {
   "cell_type": "code",
   "execution_count": 53,
   "id": "6a2ffa72",
   "metadata": {},
   "outputs": [],
   "source": [
    "#selecting the size of the labels\n",
    "heights = list(df_train['sentiment'].value_counts())\n",
    "bars = pd.DataFrame(zip(heights,type_labels), columns=['heights','labels'])\n",
    "bars = bars.sort_values(by='heights',ascending=True)"
   ]
  },
  {
   "cell_type": "markdown",
   "id": "9bac2ff3",
   "metadata": {},
   "source": [
    "## 7.3 Balancing data"
   ]
  },
  {
   "cell_type": "markdown",
   "id": "eaa4c9c1",
   "metadata": {},
   "source": [
    "### Class imbalances\n",
    "As we can see from the distrubution plot above there are inbalances in the datasaet. Below we will attempt to correct the imbalances in the data by resampling."
   ]
  },
  {
   "cell_type": "code",
   "execution_count": 54,
   "id": "a99f7100",
   "metadata": {},
   "outputs": [],
   "source": [
    "#selcting a class size which is roughly the size of labe 2 class\n",
    "class_size =3500"
   ]
  },
  {
   "cell_type": "code",
   "execution_count": 55,
   "id": "0a98b225",
   "metadata": {},
   "outputs": [
    {
     "data": {
      "text/plain": [
       "array([[0, 0, 0, ..., 0, 0, 0],\n",
       "       [0, 0, 0, ..., 0, 0, 0],\n",
       "       [0, 0, 0, ..., 0, 0, 0],\n",
       "       ...,\n",
       "       [0, 0, 0, ..., 0, 0, 0],\n",
       "       [0, 0, 0, ..., 0, 0, 0],\n",
       "       [0, 0, 0, ..., 0, 0, 0]], dtype=int64)"
      ]
     },
     "execution_count": 55,
     "metadata": {},
     "output_type": "execute_result"
    }
   ],
   "source": [
    "X = X_count.toarray()\n",
    "X"
   ]
  },
  {
   "cell_type": "code",
   "execution_count": 56,
   "id": "4d466933",
   "metadata": {},
   "outputs": [
    {
     "data": {
      "text/plain": [
       "0       -1\n",
       "1       -1\n",
       "2       -1\n",
       "3       -1\n",
       "4       -1\n",
       "        ..\n",
       "30754    2\n",
       "30755    2\n",
       "30756    2\n",
       "30757    2\n",
       "30758    2\n",
       "Name: sentiment, Length: 30759, dtype: int64"
      ]
     },
     "execution_count": 56,
     "metadata": {},
     "output_type": "execute_result"
    }
   ],
   "source": [
    "# Determine our Label\n",
    "y"
   ]
  },
  {
   "cell_type": "code",
   "execution_count": 57,
   "id": "dadd94d6",
   "metadata": {},
   "outputs": [
    {
     "data": {
      "text/plain": [
       "array([[ 0,  0,  0, ...,  0,  0, -1],\n",
       "       [ 0,  0,  0, ...,  0,  0, -1],\n",
       "       [ 0,  0,  0, ...,  0,  0, -1],\n",
       "       ...,\n",
       "       [ 0,  0,  0, ...,  0,  0,  2],\n",
       "       [ 0,  0,  0, ...,  0,  0,  2],\n",
       "       [ 0,  0,  0, ...,  0,  0,  2]], dtype=int64)"
      ]
     },
     "execution_count": 57,
     "metadata": {},
     "output_type": "execute_result"
    }
   ],
   "source": [
    "# concatenate both features and labels before resampling\n",
    "data = np.concatenate([X, y[:,np.newaxis]], axis=1)\n",
    "data"
   ]
  },
  {
   "cell_type": "code",
   "execution_count": 58,
   "id": "79fbe649",
   "metadata": {},
   "outputs": [
    {
     "data": {
      "text/html": [
       "<div>\n",
       "<style scoped>\n",
       "    .dataframe tbody tr th:only-of-type {\n",
       "        vertical-align: middle;\n",
       "    }\n",
       "\n",
       "    .dataframe tbody tr th {\n",
       "        vertical-align: top;\n",
       "    }\n",
       "\n",
       "    .dataframe thead th {\n",
       "        text-align: right;\n",
       "    }\n",
       "</style>\n",
       "<table border=\"1\" class=\"dataframe\">\n",
       "  <thead>\n",
       "    <tr style=\"text-align: right;\">\n",
       "      <th></th>\n",
       "      <th>heights</th>\n",
       "    </tr>\n",
       "    <tr>\n",
       "      <th>labels</th>\n",
       "      <th></th>\n",
       "    </tr>\n",
       "  </thead>\n",
       "  <tbody>\n",
       "    <tr>\n",
       "      <th>2</th>\n",
       "      <td>2793</td>\n",
       "    </tr>\n",
       "    <tr>\n",
       "      <th>1</th>\n",
       "      <td>5400</td>\n",
       "    </tr>\n",
       "    <tr>\n",
       "      <th>0</th>\n",
       "      <td>6493</td>\n",
       "    </tr>\n",
       "    <tr>\n",
       "      <th>-1</th>\n",
       "      <td>16073</td>\n",
       "    </tr>\n",
       "  </tbody>\n",
       "</table>\n",
       "</div>"
      ],
      "text/plain": [
       "        heights\n",
       "labels         \n",
       " 2         2793\n",
       " 1         5400\n",
       " 0         6493\n",
       "-1        16073"
      ]
     },
     "execution_count": 58,
     "metadata": {},
     "output_type": "execute_result"
    }
   ],
   "source": [
    "#setting the index of the dataframe as labels\n",
    "bar_label_df = bars.set_index('labels')\n",
    "bar_label_df"
   ]
  },
  {
   "cell_type": "code",
   "execution_count": 60,
   "id": "4290bec4",
   "metadata": {},
   "outputs": [],
   "source": [
    "resampled_classes = []\n",
    "\n",
    "# For each label\n",
    "for label in range(-1,3):\n",
    "    # Get num. of observations from this class\n",
    "    label_size = bar_label_df.loc[label]['heights']\n",
    "     \n",
    "    # If label_size < class size the upsample, else downsample\n",
    "    if label_size < class_size:\n",
    "        # Upsample\n",
    "        label_data = data[data[:,-1] == label]\n",
    "        label_resampled = resample(label_data,\n",
    "                                  replace=True, # sample with replacement (we need to duplicate observations)\n",
    "                                  n_samples=class_size, # number of desired samples\n",
    "                                  random_state=27) # reproducible results\n",
    "    else:\n",
    "        # Downsample\n",
    "        label_data = data[data[:,-1] == label]\n",
    "        label_resampled = resample(label_data,\n",
    "                                  replace=True, # sample without replacement (no need for duplicate observations)\n",
    "                                  n_samples=class_size, # number of desired samples\n",
    "                                  random_state=27) # reproducible results\n",
    "        \n",
    "    resampled_classes.append(label_resampled)"
   ]
  },
  {
   "cell_type": "code",
   "execution_count": 61,
   "id": "0afd05b8",
   "metadata": {},
   "outputs": [],
   "source": [
    "#concatenating the resample classes\n",
    "resampled_data = np.concatenate(resampled_classes, axis=0)"
   ]
  },
  {
   "cell_type": "code",
   "execution_count": 62,
   "id": "e8713762",
   "metadata": {},
   "outputs": [
    {
     "data": {
      "text/plain": [
       "(14000, 41427)"
      ]
     },
     "execution_count": 62,
     "metadata": {},
     "output_type": "execute_result"
    }
   ],
   "source": [
    "resampled_data.shape"
   ]
  },
  {
   "cell_type": "code",
   "execution_count": 63,
   "id": "fd5a8a17",
   "metadata": {},
   "outputs": [],
   "source": [
    "#Split resampled data into X and y\n",
    "X_resampled = resampled_data[:,:-1]\n",
    "y_resampled = resampled_data[:,-1]"
   ]
  },
  {
   "cell_type": "code",
   "execution_count": 64,
   "id": "14ef6a2c",
   "metadata": {},
   "outputs": [
    {
     "data": {
      "text/plain": [
       "array([-1, -1, -1, ...,  2,  2,  2], dtype=int64)"
      ]
     },
     "execution_count": 64,
     "metadata": {},
     "output_type": "execute_result"
    }
   ],
   "source": [
    "y_resampled"
   ]
  },
  {
   "cell_type": "markdown",
   "id": "82865a4f",
   "metadata": {},
   "source": [
    "Next the team decide to create a test dataframe as test_without_labels will be used for validation"
   ]
  },
  {
   "cell_type": "code",
   "execution_count": null,
   "id": "06480f9e",
   "metadata": {},
   "outputs": [],
   "source": []
  },
  {
   "cell_type": "code",
   "execution_count": 65,
   "id": "049c2f28",
   "metadata": {},
   "outputs": [],
   "source": [
    "#creating a test dataframe\n",
    "test_df = pd.DataFrame(df_test['message'])"
   ]
  },
  {
   "cell_type": "code",
   "execution_count": 66,
   "id": "af6f382b",
   "metadata": {},
   "outputs": [
    {
     "data": {
      "text/html": [
       "<div>\n",
       "<style scoped>\n",
       "    .dataframe tbody tr th:only-of-type {\n",
       "        vertical-align: middle;\n",
       "    }\n",
       "\n",
       "    .dataframe tbody tr th {\n",
       "        vertical-align: top;\n",
       "    }\n",
       "\n",
       "    .dataframe thead th {\n",
       "        text-align: right;\n",
       "    }\n",
       "</style>\n",
       "<table border=\"1\" class=\"dataframe\">\n",
       "  <thead>\n",
       "    <tr style=\"text-align: right;\">\n",
       "      <th></th>\n",
       "      <th>message</th>\n",
       "    </tr>\n",
       "  </thead>\n",
       "  <tbody>\n",
       "    <tr>\n",
       "      <th>0</th>\n",
       "      <td>RT @darreljorstad: Funny as hell! Canada deman...</td>\n",
       "    </tr>\n",
       "    <tr>\n",
       "      <th>1</th>\n",
       "      <td>All the biggest lies about climate change and ...</td>\n",
       "    </tr>\n",
       "    <tr>\n",
       "      <th>2</th>\n",
       "      <td>The Coming Revelation Of The $q$Global Warming...</td>\n",
       "    </tr>\n",
       "    <tr>\n",
       "      <th>3</th>\n",
       "      <td>RT @DineshDSouza: Let's see if the world ends ...</td>\n",
       "    </tr>\n",
       "    <tr>\n",
       "      <th>4</th>\n",
       "      <td>RT @SteveSGoddard: Obama has no control over t...</td>\n",
       "    </tr>\n",
       "  </tbody>\n",
       "</table>\n",
       "</div>"
      ],
      "text/plain": [
       "                                             message\n",
       "0  RT @darreljorstad: Funny as hell! Canada deman...\n",
       "1  All the biggest lies about climate change and ...\n",
       "2  The Coming Revelation Of The $q$Global Warming...\n",
       "3  RT @DineshDSouza: Let's see if the world ends ...\n",
       "4  RT @SteveSGoddard: Obama has no control over t..."
      ]
     },
     "execution_count": 66,
     "metadata": {},
     "output_type": "execute_result"
    }
   ],
   "source": [
    "test_df.head()"
   ]
  },
  {
   "cell_type": "code",
   "execution_count": 67,
   "id": "15e67c1f",
   "metadata": {},
   "outputs": [],
   "source": [
    "#removing http and replacing it with url pattern\n",
    "test_df['message_punct'] = test_df['message'].replace(to_replace = pattern_url, value = subs_url, regex = True)"
   ]
  },
  {
   "cell_type": "code",
   "execution_count": 68,
   "id": "a3a15de6",
   "metadata": {},
   "outputs": [],
   "source": [
    "#applying the remove punctuation funtion to the test data\n",
    "test_df['message_punct'] = test_df['message_punct'].apply(lambda x: remove_punct(x))"
   ]
  },
  {
   "cell_type": "code",
   "execution_count": 69,
   "id": "d13ac6b4",
   "metadata": {},
   "outputs": [],
   "source": [
    "#apply the clean_data function\n",
    "test_df['tweets'] = test_df['message_punct'].apply(clean_data)"
   ]
  },
  {
   "cell_type": "code",
   "execution_count": 70,
   "id": "e025d01c",
   "metadata": {},
   "outputs": [],
   "source": [
    "#transforming the data using vectorizer\n",
    "test_count = vectorizer.transform(test_df['tweets'].values.astype(str))"
   ]
  },
  {
   "cell_type": "code",
   "execution_count": 71,
   "id": "242c0d2e",
   "metadata": {},
   "outputs": [],
   "source": [
    "#selecting the feature\n",
    "x_test = test_count"
   ]
  },
  {
   "cell_type": "code",
   "execution_count": 72,
   "id": "e307549b",
   "metadata": {},
   "outputs": [
    {
     "data": {
      "text/plain": [
       "(30759, 41426)"
      ]
     },
     "execution_count": 72,
     "metadata": {},
     "output_type": "execute_result"
    }
   ],
   "source": [
    "#the shape of the feature\n",
    "x_test.shape"
   ]
  },
  {
   "cell_type": "code",
   "execution_count": 73,
   "id": "b3ea2c7e",
   "metadata": {},
   "outputs": [
    {
     "data": {
      "text/plain": [
       "(14000, 41426)"
      ]
     },
     "execution_count": 73,
     "metadata": {},
     "output_type": "execute_result"
    }
   ],
   "source": [
    "X_resampled.shape"
   ]
  },
  {
   "cell_type": "code",
   "execution_count": null,
   "id": "fe85864f",
   "metadata": {},
   "outputs": [],
   "source": []
  },
  {
   "cell_type": "code",
   "execution_count": null,
   "id": "1029c1c1",
   "metadata": {},
   "outputs": [],
   "source": []
  },
  {
   "cell_type": "markdown",
   "id": "28799331",
   "metadata": {},
   "source": [
    "<a id=\"eight\"></a>\n",
    "# 8. MODELLING \n",
    "<img src= \"https://miro.medium.com/max/2266/0*ksi8J5RL7iPyoV_x.jpg\" style=\"width: 300px\" style=\"height: 300px;\"/>\n",
    "\n",
    "<a href=#cont>Back to Table of Contents</a>"
   ]
  },
  {
   "cell_type": "code",
   "execution_count": 57,
   "id": "2f06bdcb",
   "metadata": {},
   "outputs": [],
   "source": [
    "# Create some Classification models to Predict an individual’s belief in climate change based on their tweets!"
   ]
  },
  {
   "cell_type": "code",
   "execution_count": 74,
   "id": "0cfc2a7c",
   "metadata": {},
   "outputs": [],
   "source": [
    "# Split Data (into Training & Test)\n",
    "X_train, X_test, y_train, y_test = train_test_split(X_resampled, y_resampled, test_size=0.2, random_state=42)"
   ]
  },
  {
   "cell_type": "code",
   "execution_count": 75,
   "id": "c21ead64",
   "metadata": {},
   "outputs": [],
   "source": [
    "# Initializing our models for fitting\n",
    "lr = LogisticRegression()\n",
    "dt = DecisionTreeClassifier()\n",
    "rf = RandomForestClassifier()\n",
    "xgb = XGBClassifier()"
   ]
  },
  {
   "cell_type": "code",
   "execution_count": 76,
   "id": "cb35f62d",
   "metadata": {},
   "outputs": [],
   "source": [
    "ridge = RidgeClassifier()"
   ]
  },
  {
   "cell_type": "code",
   "execution_count": 77,
   "id": "95ec0fd7",
   "metadata": {},
   "outputs": [
    {
     "data": {
      "text/plain": [
       "array([[0, 0, 0, ..., 0, 0, 0],\n",
       "       [0, 0, 0, ..., 0, 0, 0],\n",
       "       [0, 0, 0, ..., 0, 0, 0],\n",
       "       ...,\n",
       "       [0, 0, 0, ..., 0, 0, 0],\n",
       "       [0, 0, 0, ..., 0, 0, 0],\n",
       "       [0, 0, 0, ..., 0, 0, 0]], dtype=int64)"
      ]
     },
     "execution_count": 77,
     "metadata": {},
     "output_type": "execute_result"
    }
   ],
   "source": [
    "X_train"
   ]
  },
  {
   "cell_type": "code",
   "execution_count": 80,
   "id": "08f16fc2",
   "metadata": {},
   "outputs": [],
   "source": [
    "#fitting the models \n",
    "lr.fit(X_train, y_train)\n",
    "dt.fit(X_train, y_train)\n",
    "rf.fit(X_train, y_train)\n",
    "xgb.fit(X_train, y_train)"
   ]
  },
  {
   "cell_type": "code",
   "execution_count": 82,
   "id": "0fff4a0a",
   "metadata": {},
   "outputs": [],
   "source": [
    "ridge.fit(X_train, y_train)"
   ]
  },
  {
   "cell_type": "code",
   "execution_count": 62,
   "id": "477df294",
   "metadata": {},
   "outputs": [],
   "source": [
    "# Generate predictions\n",
    "pred1 = lr.predict(X_test)\n",
    "pred2 = dt.predict(X_test)\n",
    "pred3 = rf.predict(X_test)\n",
    "pred4 = xgb.predict(X_test)"
   ]
  },
  {
   "cell_type": "code",
   "execution_count": 72,
   "id": "c1490618",
   "metadata": {},
   "outputs": [],
   "source": [
    "pred4 = ridge.predict(X_test)"
   ]
  },
  {
   "cell_type": "code",
   "execution_count": 58,
   "id": "589a1104",
   "metadata": {},
   "outputs": [],
   "source": [
    "f1_score?"
   ]
  },
  {
   "cell_type": "code",
   "execution_count": 63,
   "id": "96bb5ef4",
   "metadata": {},
   "outputs": [],
   "source": [
    "# Checking f1 scores\n",
    "score1 = f1_score(y_test, pred1, average=None)\n",
    "score2 = f1_score(y_test, pred2, average=None)\n",
    "score3 = f1_score(y_test, pred3, average=None)"
   ]
  },
  {
   "cell_type": "code",
   "execution_count": 73,
   "id": "ea291e78",
   "metadata": {},
   "outputs": [],
   "source": [
    "score4 = f1_score(y_test, pred4, average=None)"
   ]
  },
  {
   "cell_type": "code",
   "execution_count": 64,
   "id": "085e1bcc",
   "metadata": {},
   "outputs": [
    {
     "data": {
      "text/plain": [
       "0.81700639725298"
      ]
     },
     "execution_count": 64,
     "metadata": {},
     "output_type": "execute_result"
    }
   ],
   "source": [
    "score1.mean()"
   ]
  },
  {
   "cell_type": "code",
   "execution_count": 65,
   "id": "d744771e",
   "metadata": {},
   "outputs": [
    {
     "data": {
      "text/plain": [
       "0.7680897348981597"
      ]
     },
     "execution_count": 65,
     "metadata": {},
     "output_type": "execute_result"
    }
   ],
   "source": [
    "score2.mean()"
   ]
  },
  {
   "cell_type": "code",
   "execution_count": 66,
   "id": "65648c7d",
   "metadata": {},
   "outputs": [
    {
     "data": {
      "text/plain": [
       "0.8098834229176942"
      ]
     },
     "execution_count": 66,
     "metadata": {},
     "output_type": "execute_result"
    }
   ],
   "source": [
    "score3.mean()"
   ]
  },
  {
   "cell_type": "code",
   "execution_count": 74,
   "id": "1968cb00",
   "metadata": {},
   "outputs": [
    {
     "data": {
      "text/plain": [
       "0.8081071838741057"
      ]
     },
     "execution_count": 74,
     "metadata": {},
     "output_type": "execute_result"
    }
   ],
   "source": [
    "score4.mean()"
   ]
  },
  {
   "cell_type": "code",
   "execution_count": 67,
   "id": "0b22f962",
   "metadata": {},
   "outputs": [],
   "source": [
    "pickle.dump(lr, open(\"logistic.pkl\", \"wb\"))\n",
    "pickle.dump(dt, open(\"dec_tree.pkl\", \"wb\"))\n",
    "pickle.dump(rf, open(\"rand_for.pkl\", \"wb\"))"
   ]
  },
  {
   "cell_type": "code",
   "execution_count": 77,
   "id": "6ee3728a",
   "metadata": {},
   "outputs": [],
   "source": [
    "pickle.dump(ridge, open(\"ridge.pkl\", \"wb\"))"
   ]
  },
  {
   "cell_type": "code",
   "execution_count": null,
   "id": "24855f96",
   "metadata": {},
   "outputs": [],
   "source": []
  },
  {
   "cell_type": "code",
   "execution_count": 88,
   "id": "107604c8",
   "metadata": {},
   "outputs": [],
   "source": [
    "log_reg = lr.predict(x_test)\n",
    "decision_tree = dt.predict(x_test)\n",
    "random_forest = rf.predict(x_test)\n",
    "ridgeclass = ridge.predict(x_test)\n",
    "xgboost = xgb.predict(x_test)"
   ]
  },
  {
   "cell_type": "code",
   "execution_count": 128,
   "id": "126cce98",
   "metadata": {},
   "outputs": [],
   "source": [
    "df1 = test.copy()\n",
    "df2 = test.copy()\n",
    "df3 = test.copy()\n",
    "df4 = test.copy()"
   ]
  },
  {
   "cell_type": "code",
   "execution_count": 131,
   "id": "5b2470aa",
   "metadata": {},
   "outputs": [],
   "source": [
    "df1 = df1.drop(['message'], axis=1)\n",
    "df2 = df2.drop(['message'], axis=1)\n",
    "df3 = df3.drop(['message'], axis=1)\n",
    "df4 = df4.drop(['message'], axis=1)"
   ]
  },
  {
   "cell_type": "code",
   "execution_count": 132,
   "id": "b330d277",
   "metadata": {},
   "outputs": [],
   "source": [
    "df1['sentiment'] = log_reg\n",
    "df2['sentiment'] = decision_tree\n",
    "df3['sentiment'] = random_forest\n",
    "df4['sentiment'] = ridgeclass"
   ]
  },
  {
   "cell_type": "code",
   "execution_count": 133,
   "id": "ca379513",
   "metadata": {},
   "outputs": [
    {
     "data": {
      "text/html": [
       "<div>\n",
       "<style scoped>\n",
       "    .dataframe tbody tr th:only-of-type {\n",
       "        vertical-align: middle;\n",
       "    }\n",
       "\n",
       "    .dataframe tbody tr th {\n",
       "        vertical-align: top;\n",
       "    }\n",
       "\n",
       "    .dataframe thead th {\n",
       "        text-align: right;\n",
       "    }\n",
       "</style>\n",
       "<table border=\"1\" class=\"dataframe\">\n",
       "  <thead>\n",
       "    <tr style=\"text-align: right;\">\n",
       "      <th></th>\n",
       "      <th>tweetid</th>\n",
       "      <th>sentiment</th>\n",
       "    </tr>\n",
       "  </thead>\n",
       "  <tbody>\n",
       "    <tr>\n",
       "      <th>0</th>\n",
       "      <td>169760</td>\n",
       "      <td>2</td>\n",
       "    </tr>\n",
       "    <tr>\n",
       "      <th>1</th>\n",
       "      <td>35326</td>\n",
       "      <td>1</td>\n",
       "    </tr>\n",
       "    <tr>\n",
       "      <th>2</th>\n",
       "      <td>224985</td>\n",
       "      <td>1</td>\n",
       "    </tr>\n",
       "    <tr>\n",
       "      <th>3</th>\n",
       "      <td>476263</td>\n",
       "      <td>1</td>\n",
       "    </tr>\n",
       "    <tr>\n",
       "      <th>4</th>\n",
       "      <td>872928</td>\n",
       "      <td>0</td>\n",
       "    </tr>\n",
       "  </tbody>\n",
       "</table>\n",
       "</div>"
      ],
      "text/plain": [
       "   tweetid  sentiment\n",
       "0   169760          2\n",
       "1    35326          1\n",
       "2   224985          1\n",
       "3   476263          1\n",
       "4   872928          0"
      ]
     },
     "execution_count": 133,
     "metadata": {},
     "output_type": "execute_result"
    }
   ],
   "source": [
    "df1.head()"
   ]
  },
  {
   "cell_type": "code",
   "execution_count": 134,
   "id": "83e23279",
   "metadata": {},
   "outputs": [
    {
     "data": {
      "text/html": [
       "<div>\n",
       "<style scoped>\n",
       "    .dataframe tbody tr th:only-of-type {\n",
       "        vertical-align: middle;\n",
       "    }\n",
       "\n",
       "    .dataframe tbody tr th {\n",
       "        vertical-align: top;\n",
       "    }\n",
       "\n",
       "    .dataframe thead th {\n",
       "        text-align: right;\n",
       "    }\n",
       "</style>\n",
       "<table border=\"1\" class=\"dataframe\">\n",
       "  <thead>\n",
       "    <tr style=\"text-align: right;\">\n",
       "      <th></th>\n",
       "      <th>tweetid</th>\n",
       "      <th>sentiment</th>\n",
       "    </tr>\n",
       "  </thead>\n",
       "  <tbody>\n",
       "    <tr>\n",
       "      <th>0</th>\n",
       "      <td>169760</td>\n",
       "      <td>2</td>\n",
       "    </tr>\n",
       "    <tr>\n",
       "      <th>1</th>\n",
       "      <td>35326</td>\n",
       "      <td>0</td>\n",
       "    </tr>\n",
       "    <tr>\n",
       "      <th>2</th>\n",
       "      <td>224985</td>\n",
       "      <td>2</td>\n",
       "    </tr>\n",
       "    <tr>\n",
       "      <th>3</th>\n",
       "      <td>476263</td>\n",
       "      <td>0</td>\n",
       "    </tr>\n",
       "    <tr>\n",
       "      <th>4</th>\n",
       "      <td>872928</td>\n",
       "      <td>0</td>\n",
       "    </tr>\n",
       "  </tbody>\n",
       "</table>\n",
       "</div>"
      ],
      "text/plain": [
       "   tweetid  sentiment\n",
       "0   169760          2\n",
       "1    35326          0\n",
       "2   224985          2\n",
       "3   476263          0\n",
       "4   872928          0"
      ]
     },
     "execution_count": 134,
     "metadata": {},
     "output_type": "execute_result"
    }
   ],
   "source": [
    "df2.head()"
   ]
  },
  {
   "cell_type": "code",
   "execution_count": 135,
   "id": "77d8c601",
   "metadata": {},
   "outputs": [
    {
     "data": {
      "text/html": [
       "<div>\n",
       "<style scoped>\n",
       "    .dataframe tbody tr th:only-of-type {\n",
       "        vertical-align: middle;\n",
       "    }\n",
       "\n",
       "    .dataframe tbody tr th {\n",
       "        vertical-align: top;\n",
       "    }\n",
       "\n",
       "    .dataframe thead th {\n",
       "        text-align: right;\n",
       "    }\n",
       "</style>\n",
       "<table border=\"1\" class=\"dataframe\">\n",
       "  <thead>\n",
       "    <tr style=\"text-align: right;\">\n",
       "      <th></th>\n",
       "      <th>tweetid</th>\n",
       "      <th>sentiment</th>\n",
       "    </tr>\n",
       "  </thead>\n",
       "  <tbody>\n",
       "    <tr>\n",
       "      <th>0</th>\n",
       "      <td>169760</td>\n",
       "      <td>2</td>\n",
       "    </tr>\n",
       "    <tr>\n",
       "      <th>1</th>\n",
       "      <td>35326</td>\n",
       "      <td>2</td>\n",
       "    </tr>\n",
       "    <tr>\n",
       "      <th>2</th>\n",
       "      <td>224985</td>\n",
       "      <td>2</td>\n",
       "    </tr>\n",
       "    <tr>\n",
       "      <th>3</th>\n",
       "      <td>476263</td>\n",
       "      <td>1</td>\n",
       "    </tr>\n",
       "    <tr>\n",
       "      <th>4</th>\n",
       "      <td>872928</td>\n",
       "      <td>0</td>\n",
       "    </tr>\n",
       "  </tbody>\n",
       "</table>\n",
       "</div>"
      ],
      "text/plain": [
       "   tweetid  sentiment\n",
       "0   169760          2\n",
       "1    35326          2\n",
       "2   224985          2\n",
       "3   476263          1\n",
       "4   872928          0"
      ]
     },
     "execution_count": 135,
     "metadata": {},
     "output_type": "execute_result"
    }
   ],
   "source": [
    "df3.head()"
   ]
  },
  {
   "cell_type": "code",
   "execution_count": 136,
   "id": "ab49ae32",
   "metadata": {},
   "outputs": [
    {
     "data": {
      "text/html": [
       "<div>\n",
       "<style scoped>\n",
       "    .dataframe tbody tr th:only-of-type {\n",
       "        vertical-align: middle;\n",
       "    }\n",
       "\n",
       "    .dataframe tbody tr th {\n",
       "        vertical-align: top;\n",
       "    }\n",
       "\n",
       "    .dataframe thead th {\n",
       "        text-align: right;\n",
       "    }\n",
       "</style>\n",
       "<table border=\"1\" class=\"dataframe\">\n",
       "  <thead>\n",
       "    <tr style=\"text-align: right;\">\n",
       "      <th></th>\n",
       "      <th>tweetid</th>\n",
       "      <th>sentiment</th>\n",
       "    </tr>\n",
       "  </thead>\n",
       "  <tbody>\n",
       "    <tr>\n",
       "      <th>0</th>\n",
       "      <td>169760</td>\n",
       "      <td>2</td>\n",
       "    </tr>\n",
       "    <tr>\n",
       "      <th>1</th>\n",
       "      <td>35326</td>\n",
       "      <td>1</td>\n",
       "    </tr>\n",
       "    <tr>\n",
       "      <th>2</th>\n",
       "      <td>224985</td>\n",
       "      <td>1</td>\n",
       "    </tr>\n",
       "    <tr>\n",
       "      <th>3</th>\n",
       "      <td>476263</td>\n",
       "      <td>1</td>\n",
       "    </tr>\n",
       "    <tr>\n",
       "      <th>4</th>\n",
       "      <td>872928</td>\n",
       "      <td>0</td>\n",
       "    </tr>\n",
       "  </tbody>\n",
       "</table>\n",
       "</div>"
      ],
      "text/plain": [
       "   tweetid  sentiment\n",
       "0   169760          2\n",
       "1    35326          1\n",
       "2   224985          1\n",
       "3   476263          1\n",
       "4   872928          0"
      ]
     },
     "execution_count": 136,
     "metadata": {},
     "output_type": "execute_result"
    }
   ],
   "source": [
    "df4.head()"
   ]
  },
  {
   "cell_type": "code",
   "execution_count": 110,
   "id": "3ef47761",
   "metadata": {},
   "outputs": [
    {
     "data": {
      "text/html": [
       "<div>\n",
       "<style scoped>\n",
       "    .dataframe tbody tr th:only-of-type {\n",
       "        vertical-align: middle;\n",
       "    }\n",
       "\n",
       "    .dataframe tbody tr th {\n",
       "        vertical-align: top;\n",
       "    }\n",
       "\n",
       "    .dataframe thead th {\n",
       "        text-align: right;\n",
       "    }\n",
       "</style>\n",
       "<table border=\"1\" class=\"dataframe\">\n",
       "  <thead>\n",
       "    <tr style=\"text-align: right;\">\n",
       "      <th></th>\n",
       "      <th>msg</th>\n",
       "    </tr>\n",
       "  </thead>\n",
       "  <tbody>\n",
       "    <tr>\n",
       "      <th>0</th>\n",
       "      <td>I belive in climate change and I think it shou...</td>\n",
       "    </tr>\n",
       "  </tbody>\n",
       "</table>\n",
       "</div>"
      ],
      "text/plain": [
       "                                                 msg\n",
       "0  I belive in climate change and I think it shou..."
      ]
     },
     "execution_count": 110,
     "metadata": {},
     "output_type": "execute_result"
    }
   ],
   "source": [
    "a = ['I belive in climate change and I think it should be taken seriously']\n",
    "b = pd.DataFrame({'msg':a})\n",
    "b"
   ]
  },
  {
   "cell_type": "code",
   "execution_count": 111,
   "id": "ed850491",
   "metadata": {},
   "outputs": [],
   "source": [
    "c = vectorizer.transform(b['msg'].values.astype(str))"
   ]
  },
  {
   "cell_type": "code",
   "execution_count": 112,
   "id": "51d307ea",
   "metadata": {},
   "outputs": [
    {
     "data": {
      "text/plain": [
       "(1, 24020)"
      ]
     },
     "execution_count": 112,
     "metadata": {},
     "output_type": "execute_result"
    }
   ],
   "source": [
    "c.shape"
   ]
  },
  {
   "cell_type": "code",
   "execution_count": 125,
   "id": "30eb2ffc",
   "metadata": {},
   "outputs": [
    {
     "data": {
      "text/plain": [
       "array([1], dtype=int64)"
      ]
     },
     "execution_count": 125,
     "metadata": {},
     "output_type": "execute_result"
    }
   ],
   "source": [
    "predd = lr.predict(c)\n",
    "predd"
   ]
  },
  {
   "cell_type": "code",
   "execution_count": 116,
   "id": "c82499c8",
   "metadata": {},
   "outputs": [
    {
     "data": {
      "text/html": [
       "<div>\n",
       "<style scoped>\n",
       "    .dataframe tbody tr th:only-of-type {\n",
       "        vertical-align: middle;\n",
       "    }\n",
       "\n",
       "    .dataframe tbody tr th {\n",
       "        vertical-align: top;\n",
       "    }\n",
       "\n",
       "    .dataframe thead th {\n",
       "        text-align: right;\n",
       "    }\n",
       "</style>\n",
       "<table border=\"1\" class=\"dataframe\">\n",
       "  <thead>\n",
       "    <tr style=\"text-align: right;\">\n",
       "      <th></th>\n",
       "      <th>msg</th>\n",
       "    </tr>\n",
       "  </thead>\n",
       "  <tbody>\n",
       "    <tr>\n",
       "      <th>0</th>\n",
       "      <td>climate change is a lie. Our nature is not cha...</td>\n",
       "    </tr>\n",
       "  </tbody>\n",
       "</table>\n",
       "</div>"
      ],
      "text/plain": [
       "                                                 msg\n",
       "0  climate change is a lie. Our nature is not cha..."
      ]
     },
     "execution_count": 116,
     "metadata": {},
     "output_type": "execute_result"
    }
   ],
   "source": [
    "d = ['climate change is a lie. Our nature is not changing']\n",
    "e = pd.DataFrame({'msg':d})\n",
    "e"
   ]
  },
  {
   "cell_type": "code",
   "execution_count": 117,
   "id": "6bc420dd",
   "metadata": {},
   "outputs": [
    {
     "data": {
      "text/plain": [
       "(1, 24020)"
      ]
     },
     "execution_count": 117,
     "metadata": {},
     "output_type": "execute_result"
    }
   ],
   "source": [
    "f = vectorizer.transform(e['msg'].values.astype(str))\n",
    "f.shape"
   ]
  },
  {
   "cell_type": "code",
   "execution_count": 124,
   "id": "59471637",
   "metadata": {},
   "outputs": [
    {
     "data": {
      "text/plain": [
       "array([1], dtype=int64)"
      ]
     },
     "execution_count": 124,
     "metadata": {},
     "output_type": "execute_result"
    }
   ],
   "source": [
    "predd2 = ridge.predict(c)\n",
    "predd2"
   ]
  },
  {
   "cell_type": "code",
   "execution_count": 138,
   "id": "13cc0ecf",
   "metadata": {},
   "outputs": [],
   "source": [
    "df1.to_csv('nm2_submission_rid1.csv', index=False)\n",
    "df2.to_csv('nm2_submission_rid2.csv', index=False)\n",
    "df3.to_csv('nm2_submission_rid3.csv', index=False)\n",
    "df4.to_csv('nm2_submission_rid4.csv', index=False)"
   ]
  },
  {
   "cell_type": "markdown",
   "id": "c883ad4c",
   "metadata": {},
   "source": [
    "<a id=\"nine\"></a>\n",
    "# 9. MODEL PERFORMANCE\n",
    "\n",
    "<a href=#cont>Back to Table of Contents</a>"
   ]
  },
  {
   "cell_type": "code",
   "execution_count": null,
   "id": "917b3cfd",
   "metadata": {},
   "outputs": [],
   "source": []
  },
  {
   "cell_type": "code",
   "execution_count": null,
   "id": "536481a6",
   "metadata": {},
   "outputs": [],
   "source": []
  },
  {
   "cell_type": "markdown",
   "id": "c5acc4bf",
   "metadata": {},
   "source": [
    "<a id=\"ten\"></a>\n",
    "# 10. MODEL EVALUATION <img src=\"https://miro.medium.com/max/1200/1*59SfOBEuJ3m0KC7r5SshBQ.png\" style=\"width: 400px\" style=\"height: 200px;\"/>\n",
    "\n",
    "<a href=#cont>Back to Table of Contents</a>"
   ]
  },
  {
   "cell_type": "code",
   "execution_count": 58,
   "id": "5fe6c4ae",
   "metadata": {},
   "outputs": [],
   "source": [
    "# Compare Model performance and comment on what the best model is and why"
   ]
  },
  {
   "cell_type": "markdown",
   "id": "01f05199",
   "metadata": {},
   "source": [
    "<a id=\"eleven\"></a>\n",
    "# 11. CONCLUSION <img src=\"https://th.bing.com/th/id/OIP.XdnlyDaqwfcI_Ey2qJ6rDAHaE7?pid=ImgDet&rs=1\" style=\"width: 500px;\"/> \n",
    "\n",
    "<a href=#cont>Back to Table of Contents</a>"
   ]
  },
  {
   "cell_type": "code",
   "execution_count": 59,
   "id": "397c8999",
   "metadata": {},
   "outputs": [],
   "source": [
    "#write conclusions"
   ]
  },
  {
   "cell_type": "markdown",
   "id": "a6cfe61a",
   "metadata": {},
   "source": [
    "<a id=\"twelve\"></a>\n",
    "# 12. REFERENCES <img src=\"https://th.bing.com/th/id/R.07a0f66e06508a8948b9abf7c411eaa7?rik=ODoRu5YYdY7fww&pid=ImgRaw&r=0\" style=\"width:250px;\"/>\n",
    "\n",
    "<a href=#cont>Back to Table of Contents</a>"
   ]
  },
  {
   "cell_type": "code",
   "execution_count": null,
   "id": "0068eeec",
   "metadata": {},
   "outputs": [],
   "source": [
    "#Our references are:"
   ]
  },
  {
   "cell_type": "markdown",
   "id": "5a59c445",
   "metadata": {},
   "source": [
    "<img src=\"https://th.bing.com/th/id/OIP.LiQ4RysTzqgc1q78F3ncoAHaFj?pid=ImgDet&rs=1\" style=\"width:450px;\"/>"
   ]
  }
 ],
 "metadata": {
  "kernelspec": {
   "display_name": "Python 3 (ipykernel)",
   "language": "python",
   "name": "python3"
  },
  "language_info": {
   "codemirror_mode": {
    "name": "ipython",
    "version": 3
   },
   "file_extension": ".py",
   "mimetype": "text/x-python",
   "name": "python",
   "nbconvert_exporter": "python",
   "pygments_lexer": "ipython3",
   "version": "3.9.13"
  }
 },
 "nbformat": 4,
 "nbformat_minor": 5
}
